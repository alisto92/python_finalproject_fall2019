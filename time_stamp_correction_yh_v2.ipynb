{
 "cells": [
  {
   "cell_type": "markdown",
   "metadata": {},
   "source": [
    "# Merging & imputing missing weather data"
   ]
  },
  {
   "cell_type": "markdown",
   "metadata": {},
   "source": [
    "## Import libraries"
   ]
  },
  {
   "cell_type": "code",
   "execution_count": null,
   "metadata": {},
   "outputs": [],
   "source": [
    "''' importing basic data analysis packages'''\n",
    "import numpy as np\n",
    "import pandas as pd\n",
    "import matplotlib.pyplot as plt\n",
    "import seaborn as sns\n",
    "%matplotlib inline\n",
    "import os,random, math, psutil, pickle \n",
    "import missingno as msno\n",
    "from datetime import timedelta \n",
    "\n",
    "''' For ML'''\n",
    "from sklearn import metrics, svm\n",
    "from sklearn.linear_model  import LogisticRegression\n",
    "from sklearn.metrics import mean_squared_error, r2_score\n",
    "from sklearn.linear_model import LinearRegression\n",
    "from sklearn.naive_bayes import GaussianNB, BernoulliNB, MultinomialNB\n",
    "from sklearn import preprocessing\n",
    "from sklearn import utils\n",
    "from sklearn.model_selection import train_test_split\n",
    "from sklearn.neighbors import KNeighborsClassifier\n",
    "from sklearn.model_selection import GridSearchCV\n",
    "from sklearn.impute import SimpleImputer"
   ]
  },
  {
   "cell_type": "markdown",
   "metadata": {},
   "source": [
    "## Reading in data"
   ]
  },
  {
   "cell_type": "code",
   "execution_count": null,
   "metadata": {},
   "outputs": [],
   "source": [
    "# Reading in weather_train_df\n",
    "weather_train_df = pd.read_csv('weather_train.csv')\n",
    "weather_test_df = pd.read_csv('weather_test.csv')\n",
    "# Reading in timezone data\n",
    "tz = pd.read_csv('time_zones.csv')"
   ]
  },
  {
   "cell_type": "code",
   "execution_count": 3,
   "metadata": {},
   "outputs": [
    {
     "name": "stderr",
     "output_type": "stream",
     "text": [
      "C:\\Users\\yingh\\Anaconda3\\envs\\W200\\lib\\site-packages\\ipykernel_launcher.py:7: FutureWarning: Sorting because non-concatenation axis is not aligned. A future version\n",
      "of pandas will change to not sort by default.\n",
      "\n",
      "To accept the future behavior, pass 'sort=False'.\n",
      "\n",
      "To retain the current behavior and silence the warning, pass 'sort=True'.\n",
      "\n",
      "  import sys\n"
     ]
    }
   ],
   "source": [
    "# adding one more day of data from weather test to weather train to help with timezone adjustment\n",
    "weather_test_df['timestamp'] = pd.to_datetime(weather_test_df['timestamp'])\n",
    "weather_test_df['date']  = weather_test_df['timestamp'].dt.date\n",
    "weather_test_selection = weather_test_df.loc[weather_test_df.date == weather_test_df['date'][0]]\n",
    "weather_test_selection.drop(columns = ['date'])\n",
    "frames = [weather_train_df, weather_test_selection]\n",
    "weather_train_extra = pd.concat(frames)\n",
    "weather_train_extra= weather_train_extra.drop(columns = ['date'])"
   ]
  },
  {
   "cell_type": "code",
   "execution_count": 4,
   "metadata": {},
   "outputs": [
    {
     "data": {
      "text/html": [
       "<div>\n",
       "<style scoped>\n",
       "    .dataframe tbody tr th:only-of-type {\n",
       "        vertical-align: middle;\n",
       "    }\n",
       "\n",
       "    .dataframe tbody tr th {\n",
       "        vertical-align: top;\n",
       "    }\n",
       "\n",
       "    .dataframe thead th {\n",
       "        text-align: right;\n",
       "    }\n",
       "</style>\n",
       "<table border=\"1\" class=\"dataframe\">\n",
       "  <thead>\n",
       "    <tr style=\"text-align: right;\">\n",
       "      <th></th>\n",
       "      <th>site_id</th>\n",
       "      <th>timezone</th>\n",
       "      <th>country_code</th>\n",
       "      <th>location</th>\n",
       "    </tr>\n",
       "  </thead>\n",
       "  <tbody>\n",
       "    <tr>\n",
       "      <th>0</th>\n",
       "      <td>0</td>\n",
       "      <td>US/Eastern</td>\n",
       "      <td>US</td>\n",
       "      <td>Orlando, FL</td>\n",
       "    </tr>\n",
       "    <tr>\n",
       "      <th>1</th>\n",
       "      <td>1</td>\n",
       "      <td>Europe/London</td>\n",
       "      <td>UK</td>\n",
       "      <td>UK, Southampton</td>\n",
       "    </tr>\n",
       "    <tr>\n",
       "      <th>2</th>\n",
       "      <td>2</td>\n",
       "      <td>US/Mountain</td>\n",
       "      <td>US</td>\n",
       "      <td>Tempe, AZ</td>\n",
       "    </tr>\n",
       "    <tr>\n",
       "      <th>3</th>\n",
       "      <td>3</td>\n",
       "      <td>US/Eastern</td>\n",
       "      <td>US</td>\n",
       "      <td>Washington, WA</td>\n",
       "    </tr>\n",
       "    <tr>\n",
       "      <th>4</th>\n",
       "      <td>4</td>\n",
       "      <td>US/Pacific</td>\n",
       "      <td>US</td>\n",
       "      <td>San Francisco, CA</td>\n",
       "    </tr>\n",
       "  </tbody>\n",
       "</table>\n",
       "</div>"
      ],
      "text/plain": [
       "   site_id       timezone country_code           location\n",
       "0        0     US/Eastern           US        Orlando, FL\n",
       "1        1  Europe/London           UK    UK, Southampton\n",
       "2        2    US/Mountain           US          Tempe, AZ\n",
       "3        3     US/Eastern           US     Washington, WA\n",
       "4        4     US/Pacific           US  San Francisco, CA"
      ]
     },
     "execution_count": 4,
     "metadata": {},
     "output_type": "execute_result"
    }
   ],
   "source": [
    "tz.head(5)"
   ]
  },
  {
   "cell_type": "code",
   "execution_count": 5,
   "metadata": {},
   "outputs": [],
   "source": [
    "# merging weather data with tz data\n",
    "weather_train_tz = weather_train_extra.merge(tz, on=['site_id'], how ='left')"
   ]
  },
  {
   "cell_type": "code",
   "execution_count": 6,
   "metadata": {},
   "outputs": [],
   "source": [
    "weather_train_tz['timestamp'] = pd.to_datetime(weather_train_tz['timestamp'])\n",
    "# Adding in daylight saving data\n",
    "weather_train_tz['dst'] = 0\n",
    "\n",
    "# 2016\n",
    "\n",
    "weather_train_tz.loc[((weather_train_tz['timezone'] == 'US/Eastern') & \n",
    "                 (weather_train_tz['timestamp'] >= '2016-03-13 02:00:00') & \n",
    "                 (weather_train_tz['timestamp'] < '2016-11-06 01:00:00')), 'dst'] = 1\n",
    "weather_train_tz.loc[((weather_train_tz['timezone'] == 'US/Mountain') & \n",
    "                 (weather_train_tz['timestamp'] >= '2016-03-13 02:00:00') & \n",
    "                 (weather_train_tz['timestamp'] < '2016-11-06 01:00:00')), 'dst'] = 1\n",
    "weather_train_tz.loc[((weather_train_tz['timezone'] == 'US/Pacific') & \n",
    "                 (weather_train_tz['timestamp'] >= '2016-03-13 02:00:00') & \n",
    "                 (weather_train_tz['timestamp'] < '2016-11-06 01:00:00')), 'dst'] = 1\n",
    "weather_train_tz.loc[((weather_train_tz['timezone'] == 'US/Central') & \n",
    "                 (weather_train_tz['timestamp'] >= '2016-03-13 02:00:00') & \n",
    "                 (weather_train_tz['timestamp'] < '2016-11-06 01:00:00')), 'dst'] = 1\n",
    "weather_train_tz.loc[((weather_train_tz['timezone'] == 'Canada/Eastern') & \n",
    "                 (weather_train_tz['timestamp'] >= '2016-03-13 02:00:00') & \n",
    "                 (weather_train_tz['timestamp'] < '2016-11-06 01:00:00')), 'dst'] = 1\n",
    "weather_train_tz.loc[((weather_train_tz['timezone'] == 'Europe/London') & \n",
    "                 (weather_train_tz['timestamp'] >= '2016-03-27 01:00:00') & \n",
    "                 (weather_train_tz['timestamp'] < '2016-10-30 02:00:00')), 'dst'] = 1\n",
    "weather_train_tz.loc[((weather_train_tz['timezone'] == 'Europe/Dublin') & \n",
    "                 (weather_train_tz['timestamp'] >= '2016-03-27 01:00:00') & \n",
    "                 (weather_train_tz['timestamp'] < '2016-10-30 02:00:00')), 'dst'] = 1"
   ]
  },
  {
   "cell_type": "code",
   "execution_count": 7,
   "metadata": {},
   "outputs": [],
   "source": [
    "# changing name of timestamp column into UTC since these timestamp is UTC based\n",
    "weather_train_tz= weather_train_tz.rename(columns = {'timestamp':'timestamp_utc'})"
   ]
  },
  {
   "cell_type": "code",
   "execution_count": 8,
   "metadata": {},
   "outputs": [
    {
     "data": {
      "text/html": [
       "<div>\n",
       "<style scoped>\n",
       "    .dataframe tbody tr th:only-of-type {\n",
       "        vertical-align: middle;\n",
       "    }\n",
       "\n",
       "    .dataframe tbody tr th {\n",
       "        vertical-align: top;\n",
       "    }\n",
       "\n",
       "    .dataframe thead th {\n",
       "        text-align: right;\n",
       "    }\n",
       "</style>\n",
       "<table border=\"1\" class=\"dataframe\">\n",
       "  <thead>\n",
       "    <tr style=\"text-align: right;\">\n",
       "      <th></th>\n",
       "      <th>air_temperature</th>\n",
       "      <th>cloud_coverage</th>\n",
       "      <th>dew_temperature</th>\n",
       "      <th>precip_depth_1_hr</th>\n",
       "      <th>sea_level_pressure</th>\n",
       "      <th>site_id</th>\n",
       "      <th>timestamp_utc</th>\n",
       "      <th>wind_direction</th>\n",
       "      <th>wind_speed</th>\n",
       "      <th>timezone</th>\n",
       "      <th>country_code</th>\n",
       "      <th>location</th>\n",
       "      <th>dst</th>\n",
       "    </tr>\n",
       "  </thead>\n",
       "  <tbody>\n",
       "    <tr>\n",
       "      <th>0</th>\n",
       "      <td>25.0</td>\n",
       "      <td>6.0</td>\n",
       "      <td>20.0</td>\n",
       "      <td>NaN</td>\n",
       "      <td>1019.7</td>\n",
       "      <td>0</td>\n",
       "      <td>2016-01-01 00:00:00</td>\n",
       "      <td>0.0</td>\n",
       "      <td>0.0</td>\n",
       "      <td>US/Eastern</td>\n",
       "      <td>US</td>\n",
       "      <td>Orlando, FL</td>\n",
       "      <td>0</td>\n",
       "    </tr>\n",
       "    <tr>\n",
       "      <th>1</th>\n",
       "      <td>24.4</td>\n",
       "      <td>NaN</td>\n",
       "      <td>21.1</td>\n",
       "      <td>-1.0</td>\n",
       "      <td>1020.2</td>\n",
       "      <td>0</td>\n",
       "      <td>2016-01-01 01:00:00</td>\n",
       "      <td>70.0</td>\n",
       "      <td>1.5</td>\n",
       "      <td>US/Eastern</td>\n",
       "      <td>US</td>\n",
       "      <td>Orlando, FL</td>\n",
       "      <td>0</td>\n",
       "    </tr>\n",
       "    <tr>\n",
       "      <th>2</th>\n",
       "      <td>22.8</td>\n",
       "      <td>2.0</td>\n",
       "      <td>21.1</td>\n",
       "      <td>0.0</td>\n",
       "      <td>1020.2</td>\n",
       "      <td>0</td>\n",
       "      <td>2016-01-01 02:00:00</td>\n",
       "      <td>0.0</td>\n",
       "      <td>0.0</td>\n",
       "      <td>US/Eastern</td>\n",
       "      <td>US</td>\n",
       "      <td>Orlando, FL</td>\n",
       "      <td>0</td>\n",
       "    </tr>\n",
       "    <tr>\n",
       "      <th>3</th>\n",
       "      <td>21.1</td>\n",
       "      <td>2.0</td>\n",
       "      <td>20.6</td>\n",
       "      <td>0.0</td>\n",
       "      <td>1020.1</td>\n",
       "      <td>0</td>\n",
       "      <td>2016-01-01 03:00:00</td>\n",
       "      <td>0.0</td>\n",
       "      <td>0.0</td>\n",
       "      <td>US/Eastern</td>\n",
       "      <td>US</td>\n",
       "      <td>Orlando, FL</td>\n",
       "      <td>0</td>\n",
       "    </tr>\n",
       "    <tr>\n",
       "      <th>4</th>\n",
       "      <td>20.0</td>\n",
       "      <td>2.0</td>\n",
       "      <td>20.0</td>\n",
       "      <td>-1.0</td>\n",
       "      <td>1020.0</td>\n",
       "      <td>0</td>\n",
       "      <td>2016-01-01 04:00:00</td>\n",
       "      <td>250.0</td>\n",
       "      <td>2.6</td>\n",
       "      <td>US/Eastern</td>\n",
       "      <td>US</td>\n",
       "      <td>Orlando, FL</td>\n",
       "      <td>0</td>\n",
       "    </tr>\n",
       "  </tbody>\n",
       "</table>\n",
       "</div>"
      ],
      "text/plain": [
       "   air_temperature  cloud_coverage  dew_temperature  precip_depth_1_hr  \\\n",
       "0             25.0             6.0             20.0                NaN   \n",
       "1             24.4             NaN             21.1               -1.0   \n",
       "2             22.8             2.0             21.1                0.0   \n",
       "3             21.1             2.0             20.6                0.0   \n",
       "4             20.0             2.0             20.0               -1.0   \n",
       "\n",
       "   sea_level_pressure  site_id       timestamp_utc  wind_direction  \\\n",
       "0              1019.7        0 2016-01-01 00:00:00             0.0   \n",
       "1              1020.2        0 2016-01-01 01:00:00            70.0   \n",
       "2              1020.2        0 2016-01-01 02:00:00             0.0   \n",
       "3              1020.1        0 2016-01-01 03:00:00             0.0   \n",
       "4              1020.0        0 2016-01-01 04:00:00           250.0   \n",
       "\n",
       "   wind_speed    timezone country_code     location  dst  \n",
       "0         0.0  US/Eastern           US  Orlando, FL    0  \n",
       "1         1.5  US/Eastern           US  Orlando, FL    0  \n",
       "2         0.0  US/Eastern           US  Orlando, FL    0  \n",
       "3         0.0  US/Eastern           US  Orlando, FL    0  \n",
       "4         2.6  US/Eastern           US  Orlando, FL    0  "
      ]
     },
     "execution_count": 8,
     "metadata": {},
     "output_type": "execute_result"
    }
   ],
   "source": [
    "weather_train_tz.head(5)"
   ]
  },
  {
   "cell_type": "code",
   "execution_count": 9,
   "metadata": {
    "scrolled": false
   },
   "outputs": [
    {
     "data": {
      "text/plain": [
       "{'US/Eastern': -5,\n",
       " 'Europe/London': 0,\n",
       " 'US/Mountain': -7,\n",
       " 'US/Pacific': -8,\n",
       " 'Canada/Eastern': -5,\n",
       " 'US/Central': -6,\n",
       " 'Europe/Dublin': 1}"
      ]
     },
     "execution_count": 9,
     "metadata": {},
     "output_type": "execute_result"
    }
   ],
   "source": [
    "timezones = list(tz.timezone.unique())\n",
    "timezones_offset = [-5, 0, -7, -8, -5, -6, 1]\n",
    "timezones_dict = dict(zip(timezones, timezones_offset))\n",
    "timezones_dict"
   ]
  },
  {
   "cell_type": "code",
   "execution_count": 10,
   "metadata": {
    "scrolled": false
   },
   "outputs": [
    {
     "name": "stderr",
     "output_type": "stream",
     "text": [
      "C:\\Users\\yingh\\Anaconda3\\envs\\W200\\lib\\site-packages\\ipykernel_launcher.py:9: SettingWithCopyWarning: \n",
      "A value is trying to be set on a copy of a slice from a DataFrame\n",
      "\n",
      "See the caveats in the documentation: http://pandas.pydata.org/pandas-docs/stable/indexing.html#indexing-view-versus-copy\n",
      "  if __name__ == '__main__':\n"
     ]
    }
   ],
   "source": [
    "# Covert data to  datetime\n",
    "weather_train_tz['timestamp_utc'] = pd.to_datetime(weather_train_tz['timestamp_utc'])\n",
    "\n",
    "weather_train_tz['local_time'] = weather_train_tz['timestamp_utc']\n",
    "\n",
    "\n",
    "from datetime import timedelta \n",
    "for zone in timezones_dict.keys():\n",
    "    weather_train_tz.local_time[weather_train_tz.timezone==zone] += timedelta(hours = timezones_dict[zone])\n",
    "    \n",
    "weather_train_tz.loc[weather_train_tz['dst'] == 1, 'local_time'] += timedelta(hours = 1)  "
   ]
  },
  {
   "cell_type": "code",
   "execution_count": 11,
   "metadata": {},
   "outputs": [
    {
     "data": {
      "text/html": [
       "<div>\n",
       "<style scoped>\n",
       "    .dataframe tbody tr th:only-of-type {\n",
       "        vertical-align: middle;\n",
       "    }\n",
       "\n",
       "    .dataframe tbody tr th {\n",
       "        vertical-align: top;\n",
       "    }\n",
       "\n",
       "    .dataframe thead th {\n",
       "        text-align: right;\n",
       "    }\n",
       "</style>\n",
       "<table border=\"1\" class=\"dataframe\">\n",
       "  <thead>\n",
       "    <tr style=\"text-align: right;\">\n",
       "      <th></th>\n",
       "      <th>air_temperature</th>\n",
       "      <th>cloud_coverage</th>\n",
       "      <th>dew_temperature</th>\n",
       "      <th>precip_depth_1_hr</th>\n",
       "      <th>sea_level_pressure</th>\n",
       "      <th>site_id</th>\n",
       "      <th>timestamp_utc</th>\n",
       "      <th>wind_direction</th>\n",
       "      <th>wind_speed</th>\n",
       "      <th>timezone</th>\n",
       "      <th>country_code</th>\n",
       "      <th>location</th>\n",
       "      <th>dst</th>\n",
       "      <th>local_time</th>\n",
       "    </tr>\n",
       "  </thead>\n",
       "  <tbody>\n",
       "    <tr>\n",
       "      <th>0</th>\n",
       "      <td>25.0</td>\n",
       "      <td>6.0</td>\n",
       "      <td>20.0</td>\n",
       "      <td>NaN</td>\n",
       "      <td>1019.7</td>\n",
       "      <td>0</td>\n",
       "      <td>2016-01-01 00:00:00</td>\n",
       "      <td>0.0</td>\n",
       "      <td>0.0</td>\n",
       "      <td>US/Eastern</td>\n",
       "      <td>US</td>\n",
       "      <td>Orlando, FL</td>\n",
       "      <td>0</td>\n",
       "      <td>2015-12-31 19:00:00</td>\n",
       "    </tr>\n",
       "    <tr>\n",
       "      <th>1</th>\n",
       "      <td>24.4</td>\n",
       "      <td>NaN</td>\n",
       "      <td>21.1</td>\n",
       "      <td>-1.0</td>\n",
       "      <td>1020.2</td>\n",
       "      <td>0</td>\n",
       "      <td>2016-01-01 01:00:00</td>\n",
       "      <td>70.0</td>\n",
       "      <td>1.5</td>\n",
       "      <td>US/Eastern</td>\n",
       "      <td>US</td>\n",
       "      <td>Orlando, FL</td>\n",
       "      <td>0</td>\n",
       "      <td>2015-12-31 20:00:00</td>\n",
       "    </tr>\n",
       "    <tr>\n",
       "      <th>2</th>\n",
       "      <td>22.8</td>\n",
       "      <td>2.0</td>\n",
       "      <td>21.1</td>\n",
       "      <td>0.0</td>\n",
       "      <td>1020.2</td>\n",
       "      <td>0</td>\n",
       "      <td>2016-01-01 02:00:00</td>\n",
       "      <td>0.0</td>\n",
       "      <td>0.0</td>\n",
       "      <td>US/Eastern</td>\n",
       "      <td>US</td>\n",
       "      <td>Orlando, FL</td>\n",
       "      <td>0</td>\n",
       "      <td>2015-12-31 21:00:00</td>\n",
       "    </tr>\n",
       "    <tr>\n",
       "      <th>3</th>\n",
       "      <td>21.1</td>\n",
       "      <td>2.0</td>\n",
       "      <td>20.6</td>\n",
       "      <td>0.0</td>\n",
       "      <td>1020.1</td>\n",
       "      <td>0</td>\n",
       "      <td>2016-01-01 03:00:00</td>\n",
       "      <td>0.0</td>\n",
       "      <td>0.0</td>\n",
       "      <td>US/Eastern</td>\n",
       "      <td>US</td>\n",
       "      <td>Orlando, FL</td>\n",
       "      <td>0</td>\n",
       "      <td>2015-12-31 22:00:00</td>\n",
       "    </tr>\n",
       "    <tr>\n",
       "      <th>4</th>\n",
       "      <td>20.0</td>\n",
       "      <td>2.0</td>\n",
       "      <td>20.0</td>\n",
       "      <td>-1.0</td>\n",
       "      <td>1020.0</td>\n",
       "      <td>0</td>\n",
       "      <td>2016-01-01 04:00:00</td>\n",
       "      <td>250.0</td>\n",
       "      <td>2.6</td>\n",
       "      <td>US/Eastern</td>\n",
       "      <td>US</td>\n",
       "      <td>Orlando, FL</td>\n",
       "      <td>0</td>\n",
       "      <td>2015-12-31 23:00:00</td>\n",
       "    </tr>\n",
       "  </tbody>\n",
       "</table>\n",
       "</div>"
      ],
      "text/plain": [
       "   air_temperature  cloud_coverage  dew_temperature  precip_depth_1_hr  \\\n",
       "0             25.0             6.0             20.0                NaN   \n",
       "1             24.4             NaN             21.1               -1.0   \n",
       "2             22.8             2.0             21.1                0.0   \n",
       "3             21.1             2.0             20.6                0.0   \n",
       "4             20.0             2.0             20.0               -1.0   \n",
       "\n",
       "   sea_level_pressure  site_id       timestamp_utc  wind_direction  \\\n",
       "0              1019.7        0 2016-01-01 00:00:00             0.0   \n",
       "1              1020.2        0 2016-01-01 01:00:00            70.0   \n",
       "2              1020.2        0 2016-01-01 02:00:00             0.0   \n",
       "3              1020.1        0 2016-01-01 03:00:00             0.0   \n",
       "4              1020.0        0 2016-01-01 04:00:00           250.0   \n",
       "\n",
       "   wind_speed    timezone country_code     location  dst          local_time  \n",
       "0         0.0  US/Eastern           US  Orlando, FL    0 2015-12-31 19:00:00  \n",
       "1         1.5  US/Eastern           US  Orlando, FL    0 2015-12-31 20:00:00  \n",
       "2         0.0  US/Eastern           US  Orlando, FL    0 2015-12-31 21:00:00  \n",
       "3         0.0  US/Eastern           US  Orlando, FL    0 2015-12-31 22:00:00  \n",
       "4         2.6  US/Eastern           US  Orlando, FL    0 2015-12-31 23:00:00  "
      ]
     },
     "execution_count": 11,
     "metadata": {},
     "output_type": "execute_result"
    }
   ],
   "source": [
    "weather_train_tz.head(5)"
   ]
  },
  {
   "cell_type": "code",
   "execution_count": 12,
   "metadata": {},
   "outputs": [
    {
     "data": {
      "text/plain": [
       "air_temperature          55\n",
       "cloud_coverage        69366\n",
       "dew_temperature         113\n",
       "precip_depth_1_hr     50413\n",
       "sea_level_pressure    10645\n",
       "site_id                   0\n",
       "timestamp_utc             0\n",
       "wind_direction         6277\n",
       "wind_speed              304\n",
       "timezone                  0\n",
       "country_code              0\n",
       "location                  0\n",
       "dst                       0\n",
       "local_time                0\n",
       "dtype: int64"
      ]
     },
     "execution_count": 12,
     "metadata": {},
     "output_type": "execute_result"
    }
   ],
   "source": [
    "weather_train_tz.isnull().sum(axis=0)"
   ]
  },
  {
   "cell_type": "code",
   "execution_count": 13,
   "metadata": {},
   "outputs": [],
   "source": [
    "# merge with imputed meter and building data\n",
    "\n",
    "meter_building = pd.read_pickle('train_df_imputed.pkl')\n"
   ]
  },
  {
   "cell_type": "code",
   "execution_count": 14,
   "metadata": {},
   "outputs": [],
   "source": [
    "meter_building['timestamp'] = pd.to_datetime(meter_building['timestamp'])\n",
    "weather_train_tz['local_time'] = pd.to_datetime(weather_train_tz['local_time'])"
   ]
  },
  {
   "cell_type": "code",
   "execution_count": 15,
   "metadata": {},
   "outputs": [],
   "source": [
    "meter_building_weather = meter_building.merge(weather_train_tz, left_on = ['timestamp', 'site_id'], right_on = ['local_time', 'site_id'], how = 'left')"
   ]
  },
  {
   "cell_type": "code",
   "execution_count": 18,
   "metadata": {
    "scrolled": false
   },
   "outputs": [],
   "source": [
    "missing_data = pd.DataFrame(meter_building_weather.isnull().sum(axis=0))\n",
    "missing_data = missing_data.rename(columns ={0:'missing_data_count'})\n",
    "missing_data['missing_data_pc(%)'] = missing_data['missing_data_count']/len(meter_building_weather['building_id'])*100"
   ]
  },
  {
   "cell_type": "code",
   "execution_count": 19,
   "metadata": {},
   "outputs": [
    {
     "data": {
      "text/html": [
       "<div>\n",
       "<style scoped>\n",
       "    .dataframe tbody tr th:only-of-type {\n",
       "        vertical-align: middle;\n",
       "    }\n",
       "\n",
       "    .dataframe tbody tr th {\n",
       "        vertical-align: top;\n",
       "    }\n",
       "\n",
       "    .dataframe thead th {\n",
       "        text-align: right;\n",
       "    }\n",
       "</style>\n",
       "<table border=\"1\" class=\"dataframe\">\n",
       "  <thead>\n",
       "    <tr style=\"text-align: right;\">\n",
       "      <th></th>\n",
       "      <th>missing_data_count</th>\n",
       "      <th>missing_data_pc(%)</th>\n",
       "    </tr>\n",
       "  </thead>\n",
       "  <tbody>\n",
       "    <tr>\n",
       "      <th>building_id</th>\n",
       "      <td>0</td>\n",
       "      <td>0.000000</td>\n",
       "    </tr>\n",
       "    <tr>\n",
       "      <th>meter</th>\n",
       "      <td>0</td>\n",
       "      <td>0.000000</td>\n",
       "    </tr>\n",
       "    <tr>\n",
       "      <th>timestamp</th>\n",
       "      <td>0</td>\n",
       "      <td>0.000000</td>\n",
       "    </tr>\n",
       "    <tr>\n",
       "      <th>meter_reading</th>\n",
       "      <td>0</td>\n",
       "      <td>0.000000</td>\n",
       "    </tr>\n",
       "    <tr>\n",
       "      <th>site_id</th>\n",
       "      <td>0</td>\n",
       "      <td>0.000000</td>\n",
       "    </tr>\n",
       "    <tr>\n",
       "      <th>primary_use</th>\n",
       "      <td>0</td>\n",
       "      <td>0.000000</td>\n",
       "    </tr>\n",
       "    <tr>\n",
       "      <th>square_feet</th>\n",
       "      <td>0</td>\n",
       "      <td>0.000000</td>\n",
       "    </tr>\n",
       "    <tr>\n",
       "      <th>year_built</th>\n",
       "      <td>0</td>\n",
       "      <td>0.000000</td>\n",
       "    </tr>\n",
       "    <tr>\n",
       "      <th>floor_count</th>\n",
       "      <td>0</td>\n",
       "      <td>0.000000</td>\n",
       "    </tr>\n",
       "    <tr>\n",
       "      <th>time_index</th>\n",
       "      <td>0</td>\n",
       "      <td>0.000000</td>\n",
       "    </tr>\n",
       "    <tr>\n",
       "      <th>day_of_week</th>\n",
       "      <td>0</td>\n",
       "      <td>0.000000</td>\n",
       "    </tr>\n",
       "    <tr>\n",
       "      <th>hour_of_day</th>\n",
       "      <td>0</td>\n",
       "      <td>0.000000</td>\n",
       "    </tr>\n",
       "    <tr>\n",
       "      <th>index</th>\n",
       "      <td>0</td>\n",
       "      <td>0.000000</td>\n",
       "    </tr>\n",
       "    <tr>\n",
       "      <th>avg</th>\n",
       "      <td>0</td>\n",
       "      <td>0.000000</td>\n",
       "    </tr>\n",
       "    <tr>\n",
       "      <th>std</th>\n",
       "      <td>0</td>\n",
       "      <td>0.000000</td>\n",
       "    </tr>\n",
       "    <tr>\n",
       "      <th>outlier</th>\n",
       "      <td>0</td>\n",
       "      <td>0.000000</td>\n",
       "    </tr>\n",
       "    <tr>\n",
       "      <th>air_temperature</th>\n",
       "      <td>48563</td>\n",
       "      <td>0.402601</td>\n",
       "    </tr>\n",
       "    <tr>\n",
       "      <th>cloud_coverage</th>\n",
       "      <td>5331707</td>\n",
       "      <td>44.201372</td>\n",
       "    </tr>\n",
       "    <tr>\n",
       "      <th>dew_temperature</th>\n",
       "      <td>50328</td>\n",
       "      <td>0.417233</td>\n",
       "    </tr>\n",
       "    <tr>\n",
       "      <th>precip_depth_1_hr</th>\n",
       "      <td>2514303</td>\n",
       "      <td>20.844289</td>\n",
       "    </tr>\n",
       "    <tr>\n",
       "      <th>sea_level_pressure</th>\n",
       "      <td>1019098</td>\n",
       "      <td>8.448613</td>\n",
       "    </tr>\n",
       "    <tr>\n",
       "      <th>timestamp_utc</th>\n",
       "      <td>44738</td>\n",
       "      <td>0.370891</td>\n",
       "    </tr>\n",
       "    <tr>\n",
       "      <th>wind_direction</th>\n",
       "      <td>679653</td>\n",
       "      <td>5.634517</td>\n",
       "    </tr>\n",
       "    <tr>\n",
       "      <th>wind_speed</th>\n",
       "      <td>68037</td>\n",
       "      <td>0.564046</td>\n",
       "    </tr>\n",
       "    <tr>\n",
       "      <th>timezone</th>\n",
       "      <td>44738</td>\n",
       "      <td>0.370891</td>\n",
       "    </tr>\n",
       "    <tr>\n",
       "      <th>country_code</th>\n",
       "      <td>44738</td>\n",
       "      <td>0.370891</td>\n",
       "    </tr>\n",
       "    <tr>\n",
       "      <th>location</th>\n",
       "      <td>44738</td>\n",
       "      <td>0.370891</td>\n",
       "    </tr>\n",
       "    <tr>\n",
       "      <th>dst</th>\n",
       "      <td>44738</td>\n",
       "      <td>0.370891</td>\n",
       "    </tr>\n",
       "    <tr>\n",
       "      <th>local_time</th>\n",
       "      <td>44738</td>\n",
       "      <td>0.370891</td>\n",
       "    </tr>\n",
       "  </tbody>\n",
       "</table>\n",
       "</div>"
      ],
      "text/plain": [
       "                    missing_data_count  missing_data_pc(%)\n",
       "building_id                          0            0.000000\n",
       "meter                                0            0.000000\n",
       "timestamp                            0            0.000000\n",
       "meter_reading                        0            0.000000\n",
       "site_id                              0            0.000000\n",
       "primary_use                          0            0.000000\n",
       "square_feet                          0            0.000000\n",
       "year_built                           0            0.000000\n",
       "floor_count                          0            0.000000\n",
       "time_index                           0            0.000000\n",
       "day_of_week                          0            0.000000\n",
       "hour_of_day                          0            0.000000\n",
       "index                                0            0.000000\n",
       "avg                                  0            0.000000\n",
       "std                                  0            0.000000\n",
       "outlier                              0            0.000000\n",
       "air_temperature                  48563            0.402601\n",
       "cloud_coverage                 5331707           44.201372\n",
       "dew_temperature                  50328            0.417233\n",
       "precip_depth_1_hr              2514303           20.844289\n",
       "sea_level_pressure             1019098            8.448613\n",
       "timestamp_utc                    44738            0.370891\n",
       "wind_direction                  679653            5.634517\n",
       "wind_speed                       68037            0.564046\n",
       "timezone                         44738            0.370891\n",
       "country_code                     44738            0.370891\n",
       "location                         44738            0.370891\n",
       "dst                              44738            0.370891\n",
       "local_time                       44738            0.370891"
      ]
     },
     "execution_count": 19,
     "metadata": {},
     "output_type": "execute_result"
    }
   ],
   "source": [
    "missing_data"
   ]
  },
  {
   "cell_type": "code",
   "execution_count": null,
   "metadata": {},
   "outputs": [],
   "source": [
    "meter_building_weather.to_pickle ('tz_aware_merged_data_yh_v2.pkl')"
   ]
  },
  {
   "cell_type": "markdown",
   "metadata": {},
   "source": [
    "## Imputing missing weather data \n",
    "\n",
    "We think air_temperature and dew_tempearature are the two features that matters the most  and have relatively few missing data (< 1%) .  We are going to impute them by using the average of the value before and after (smoothing out temperature).  We are not going to use ML (as we did with building data) because temperature data should be bounded by time and site and most of the missing data are sporatic. "
   ]
  },
  {
   "cell_type": "markdown",
   "metadata": {},
   "source": [
    "### Imputing air_temperature"
   ]
  },
  {
   "cell_type": "code",
   "execution_count": 21,
   "metadata": {},
   "outputs": [],
   "source": [
    "# Filter out unique site_id and timestamp\n",
    "air_temp_to_impute = meter_building_weather.loc[:,meter_building_weather.columns.isin(['air_temperature','site_id','timestamp'])]\n",
    "air_temp_to_impute = air_temp_to_impute.drop_duplicates(subset=['timestamp','site_id'])"
   ]
  },
  {
   "cell_type": "code",
   "execution_count": 22,
   "metadata": {},
   "outputs": [],
   "source": [
    "# First round - filling in NA by averaging values ahead and behind the missing data. this is bound by specific site and timestamp\n",
    "air_temp_imputed= pd.DataFrame(columns = ['timestamp', 'air_temperature','site_id'])\n",
    "grouped = air_temp_to_impute.groupby('site_id')\n",
    "for key, group in grouped:\n",
    "    df = pd.DataFrame(group[['timestamp','air_temperature']]).sort_values(by = 'timestamp', ascending = True)\n",
    "    df.air_temperature = df.air_temperature.fillna((df.air_temperature.shift() + df.air_temperature.shift(-1))/2)\n",
    "    df['site_id'] = key\n",
    "    air_temp_imputed= air_temp_imputed.append(df)\n",
    "    \n",
    "# Second round - filling in NA by backfilling (most of the remaining missing data do not have data ahead to fill)\n",
    "air_temp_imputed_v2= pd.DataFrame(columns = ['timestamp', 'air_temperature','site_id'])    \n",
    "grouped = air_temp_imputed.groupby('site_id')\n",
    "for key, group in grouped:\n",
    "    df = pd.DataFrame(group[['timestamp','air_temperature']]).sort_values(by = 'timestamp', ascending = True)\n",
    "    df.air_temperature = df.air_temperature.fillna(method = 'bfill')\n",
    "    df['site_id'] = key\n",
    "    air_temp_imputed_v2= air_temp_imputed_v2.append(df)"
   ]
  },
  {
   "cell_type": "code",
   "execution_count": 23,
   "metadata": {},
   "outputs": [],
   "source": [
    "# merge imputed data to an index\n",
    "index_air = meter_building_weather[['timestamp', 'site_id']]\n",
    "index_air= index_air.merge(air_temp_imputed_v2, on = ['timestamp', 'site_id'], how= 'left')"
   ]
  },
  {
   "cell_type": "code",
   "execution_count": 24,
   "metadata": {
    "scrolled": true
   },
   "outputs": [
    {
     "data": {
      "text/plain": [
       "timestamp          0\n",
       "site_id            0\n",
       "air_temperature    0\n",
       "dtype: int64"
      ]
     },
     "execution_count": 24,
     "metadata": {},
     "output_type": "execute_result"
    }
   ],
   "source": [
    "# Checking that there is no missing air_temperature data\n",
    "index_air.isna().sum(axis=0)"
   ]
  },
  {
   "cell_type": "code",
   "execution_count": 25,
   "metadata": {},
   "outputs": [],
   "source": [
    "# merge index_air into the data. making a copy just in case\n",
    "meter_building_weather_imputed = meter_building_weather.copy()\n",
    "meter_building_weather_imputed['air_temperature']= meter_building_weather_imputed['air_temperature'].fillna(index_air['air_temperature'])"
   ]
  },
  {
   "cell_type": "code",
   "execution_count": 27,
   "metadata": {},
   "outputs": [
    {
     "data": {
      "text/plain": [
       "building_id                 0\n",
       "meter                       0\n",
       "timestamp                   0\n",
       "meter_reading               0\n",
       "site_id                     0\n",
       "primary_use                 0\n",
       "square_feet                 0\n",
       "year_built                  0\n",
       "floor_count                 0\n",
       "time_index                  0\n",
       "day_of_week                 0\n",
       "hour_of_day                 0\n",
       "index                       0\n",
       "avg                         0\n",
       "std                         0\n",
       "outlier                     0\n",
       "air_temperature             0\n",
       "cloud_coverage        5331707\n",
       "dew_temperature         50328\n",
       "precip_depth_1_hr     2514303\n",
       "sea_level_pressure    1019098\n",
       "timestamp_utc           44738\n",
       "wind_direction         679653\n",
       "wind_speed              68037\n",
       "timezone                44738\n",
       "country_code            44738\n",
       "location                44738\n",
       "dst                     44738\n",
       "local_time              44738\n",
       "dtype: int64"
      ]
     },
     "execution_count": 27,
     "metadata": {},
     "output_type": "execute_result"
    }
   ],
   "source": [
    "# Checking to see data merged correctly.  Also making sure the shape of df remains the same\n",
    "meter_building_weather_imputed.isna().sum(axis=0)\n"
   ]
  },
  {
   "cell_type": "code",
   "execution_count": 29,
   "metadata": {},
   "outputs": [
    {
     "data": {
      "text/plain": [
       "True"
      ]
     },
     "execution_count": 29,
     "metadata": {},
     "output_type": "execute_result"
    }
   ],
   "source": [
    "meter_building_weather_imputed.shape == meter_building_weather.shape"
   ]
  },
  {
   "cell_type": "markdown",
   "metadata": {},
   "source": [
    "### Imputing dew_temperature"
   ]
  },
  {
   "cell_type": "code",
   "execution_count": 31,
   "metadata": {},
   "outputs": [],
   "source": [
    "# Filter out unique site_id and timestamp\n",
    "dew_temp_to_impute = meter_building_weather.loc[:,meter_building_weather_imputed.columns.isin(['dew_temperature','site_id','timestamp'])]\n",
    "dew_temp_to_impute = dew_temp_to_impute.drop_duplicates(subset=['timestamp','site_id'])"
   ]
  },
  {
   "cell_type": "code",
   "execution_count": 32,
   "metadata": {},
   "outputs": [],
   "source": [
    "# First round - filling in NA by averaging values ahead and behind the missing data. this is bound by specific site and timestamp\n",
    "dew_temp_imputed= pd.DataFrame(columns = ['timestamp', 'dew_temperature','site_id'])\n",
    "grouped = dew_temp_to_impute.groupby('site_id')\n",
    "for key, group in grouped:\n",
    "    df = pd.DataFrame(group[['timestamp','dew_temperature']]).sort_values(by = 'timestamp', ascending = True)\n",
    "    df.dew_temperature = df.dew_temperature.fillna((df.dew_temperature.shift() + df.dew_temperature.shift(-1))/2)\n",
    "    df['site_id'] = key\n",
    "    dew_temp_imputed= dew_temp_imputed.append(df)\n",
    "    \n",
    "# Second round - filling in NA by backfilling (most of the remaining missing data do not have data ahead to fill)\n",
    "dew_temp_imputed_v2= pd.DataFrame(columns = ['timestamp', 'dew_temperature','site_id'])\n",
    "grouped = dew_temp_imputed.groupby('site_id')\n",
    "for key, group in grouped:\n",
    "    df = pd.DataFrame(group[['timestamp','dew_temperature']]).sort_values(by = 'timestamp', ascending = True)\n",
    "    df.dew_temperature = df.dew_temperature.fillna(method = 'bfill')\n",
    "    df['site_id'] = key\n",
    "    dew_temp_imputed_v2= dew_temp_imputed_v2.append(df)"
   ]
  },
  {
   "cell_type": "code",
   "execution_count": 33,
   "metadata": {},
   "outputs": [],
   "source": [
    "# merge imputed data to an index\n",
    "index_dew = meter_building_weather_imputed[['timestamp', 'site_id']]\n",
    "index_dew= index_air.merge(dew_temp_imputed_v2, on = ['timestamp', 'site_id'], how= 'left')"
   ]
  },
  {
   "cell_type": "code",
   "execution_count": 34,
   "metadata": {},
   "outputs": [
    {
     "data": {
      "text/plain": [
       "timestamp          0\n",
       "site_id            0\n",
       "air_temperature    0\n",
       "dew_temperature    0\n",
       "dtype: int64"
      ]
     },
     "execution_count": 34,
     "metadata": {},
     "output_type": "execute_result"
    }
   ],
   "source": [
    "# Checking that there is no missing air_temperature data\n",
    "index_dew.isna().sum(axis=0)"
   ]
  },
  {
   "cell_type": "code",
   "execution_count": 35,
   "metadata": {},
   "outputs": [],
   "source": [
    "# merge index_air into the data. making a copy just in case\n",
    "meter_building_weather_imputed = meter_building_weather_imputed.copy()\n",
    "meter_building_weather_imputed['dew_temperature']= meter_building_weather_imputed['dew_temperature'].fillna(index_dew['dew_temperature'])"
   ]
  },
  {
   "cell_type": "code",
   "execution_count": 36,
   "metadata": {},
   "outputs": [
    {
     "data": {
      "text/plain": [
       "building_id                 0\n",
       "meter                       0\n",
       "timestamp                   0\n",
       "meter_reading               0\n",
       "site_id                     0\n",
       "primary_use                 0\n",
       "square_feet                 0\n",
       "year_built                  0\n",
       "floor_count                 0\n",
       "time_index                  0\n",
       "day_of_week                 0\n",
       "hour_of_day                 0\n",
       "index                       0\n",
       "avg                         0\n",
       "std                         0\n",
       "outlier                     0\n",
       "air_temperature             0\n",
       "cloud_coverage        5331707\n",
       "dew_temperature             0\n",
       "precip_depth_1_hr     2514303\n",
       "sea_level_pressure    1019098\n",
       "timestamp_utc           44738\n",
       "wind_direction         679653\n",
       "wind_speed              68037\n",
       "timezone                44738\n",
       "country_code            44738\n",
       "location                44738\n",
       "dst                     44738\n",
       "local_time              44738\n",
       "dtype: int64"
      ]
     },
     "execution_count": 36,
     "metadata": {},
     "output_type": "execute_result"
    }
   ],
   "source": [
    "# Checking to see data merged correctly.  Also making sure the shape of df remains the same\n",
    "meter_building_weather_imputed.isna().sum(axis=0)\n"
   ]
  },
  {
   "cell_type": "code",
   "execution_count": 37,
   "metadata": {},
   "outputs": [
    {
     "data": {
      "text/plain": [
       "True"
      ]
     },
     "execution_count": 37,
     "metadata": {},
     "output_type": "execute_result"
    }
   ],
   "source": [
    "meter_building_weather_imputed.shape == meter_building_weather.shape"
   ]
  },
  {
   "cell_type": "code",
   "execution_count": 38,
   "metadata": {},
   "outputs": [],
   "source": [
    "meter_building_weather_imputed.to_pickle ('tz_aware_merged_data_weather_imputed.pkl')"
   ]
  },
  {
   "cell_type": "code",
   "execution_count": null,
   "metadata": {},
   "outputs": [],
   "source": []
  }
 ],
 "metadata": {
  "kernelspec": {
   "display_name": "Python 3",
   "language": "python",
   "name": "python3"
  },
  "language_info": {
   "codemirror_mode": {
    "name": "ipython",
    "version": 3
   },
   "file_extension": ".py",
   "mimetype": "text/x-python",
   "name": "python",
   "nbconvert_exporter": "python",
   "pygments_lexer": "ipython3",
   "version": "3.7.3"
  }
 },
 "nbformat": 4,
 "nbformat_minor": 2
}
